{
  "nbformat": 4,
  "nbformat_minor": 0,
  "metadata": {
    "colab": {
      "provenance": [],
      "authorship_tag": "ABX9TyNzHi35OxCmG2Xf+HZ/WJkF",
      "include_colab_link": true
    },
    "kernelspec": {
      "name": "python3",
      "display_name": "Python 3"
    },
    "language_info": {
      "name": "python"
    }
  },
  "cells": [
    {
      "cell_type": "markdown",
      "metadata": {
        "id": "view-in-github",
        "colab_type": "text"
      },
      "source": [
        "<a href=\"https://colab.research.google.com/github/2303A51937/23CSBTB27-28/blob/main/value%20and%20policy%20iteration.ipynb\" target=\"_parent\"><img src=\"https://colab.research.google.com/assets/colab-badge.svg\" alt=\"Open In Colab\"/></a>"
      ]
    },
    {
      "cell_type": "code",
      "execution_count": 1,
      "metadata": {
        "colab": {
          "base_uri": "https://localhost:8080/"
        },
        "id": "SemvlAI9_vdE",
        "outputId": "8a8bbeb3-b222-4804-d3aa-fd50452cda00"
      },
      "outputs": [
        {
          "output_type": "stream",
          "name": "stdout",
          "text": [
            "=== Value Iteration ===\n",
            "Optimal Values: [0.81 0.9  1.   0.  ]\n",
            "Optimal Policy: [1 1 1 0]\n",
            "\n",
            "=== Policy Iteration ===\n",
            "Optimal Values: [0.81 0.9  1.   0.  ]\n",
            "Optimal Policy: [1 1 1 0]\n"
          ]
        }
      ],
      "source": [
        "import numpy as np\n",
        "\n",
        "# -------------------------------\n",
        "# Define a simple MDP\n",
        "# -------------------------------\n",
        "states = [0, 1, 2, 3]   # 3 is terminal\n",
        "actions = [0, 1]        # 0 = left, 1 = right\n",
        "gamma = 0.9             # discount factor\n",
        "\n",
        "# Transition probabilities and rewards\n",
        "# P[state][action] = list of (probability, next_state, reward)\n",
        "P = {\n",
        "    0: {0: [(1.0, 0, 0)],     1: [(1.0, 1, 0)]},\n",
        "    1: {0: [(1.0, 0, 0)],     1: [(1.0, 2, 0)]},\n",
        "    2: {0: [(1.0, 1, 0)],     1: [(1.0, 3, 1)]},  # reward at state 3\n",
        "    3: {0: [(1.0, 3, 0)],     1: [(1.0, 3, 0)]},  # terminal state\n",
        "}\n",
        "\n",
        "# -------------------------------\n",
        "# VALUE ITERATION\n",
        "# -------------------------------\n",
        "def value_iteration(states, actions, P, gamma=0.9, theta=1e-6):\n",
        "    V = np.zeros(len(states))  # initialize value function\n",
        "    while True:\n",
        "        delta = 0\n",
        "        for s in states:\n",
        "            v = V[s]\n",
        "            Q = []\n",
        "            for a in actions:\n",
        "                q = sum(prob * (reward + gamma * V[s_next])\n",
        "                        for prob, s_next, reward in P[s][a])\n",
        "                Q.append(q)\n",
        "            V[s] = max(Q)\n",
        "            delta = max(delta, abs(v - V[s]))\n",
        "        if delta < theta:  # convergence check\n",
        "            break\n",
        "\n",
        "    # Extract optimal policy\n",
        "    policy = np.zeros(len(states), dtype=int)\n",
        "    for s in states:\n",
        "        Q = []\n",
        "        for a in actions:\n",
        "            q = sum(prob * (reward + gamma * V[s_next])\n",
        "                    for prob, s_next, reward in P[s][a])\n",
        "            Q.append(q)\n",
        "        policy[s] = np.argmax(Q)\n",
        "\n",
        "    return V, policy\n",
        "\n",
        "# -------------------------------\n",
        "# POLICY ITERATION\n",
        "# -------------------------------\n",
        "def policy_iteration(states, actions, P, gamma=0.9, theta=1e-6):\n",
        "    policy = np.zeros(len(states), dtype=int)  # start with \"always left\"\n",
        "    V = np.zeros(len(states))\n",
        "\n",
        "    while True:\n",
        "        # Policy Evaluation\n",
        "        while True:\n",
        "            delta = 0\n",
        "            for s in states:\n",
        "                v = V[s]\n",
        "                a = policy[s]\n",
        "                V[s] = sum(prob * (reward + gamma * V[s_next])\n",
        "                           for prob, s_next, reward in P[s][a])\n",
        "                delta = max(delta, abs(v - V[s]))\n",
        "            if delta < theta:\n",
        "                break\n",
        "\n",
        "        # Policy Improvement\n",
        "        policy_stable = True\n",
        "        for s in states:\n",
        "            old_action = policy[s]\n",
        "            Q = []\n",
        "            for a in actions:\n",
        "                q = sum(prob * (reward + gamma * V[s_next])\n",
        "                        for prob, s_next, reward in P[s][a])\n",
        "                Q.append(q)\n",
        "            policy[s] = np.argmax(Q)\n",
        "            if old_action != policy[s]:\n",
        "                policy_stable = False\n",
        "\n",
        "        if policy_stable:\n",
        "            break\n",
        "\n",
        "    return V, policy\n",
        "\n",
        "# -------------------------------\n",
        "# Run both methods\n",
        "# -------------------------------\n",
        "if __name__ == \"__main__\":\n",
        "    V_vi, policy_vi = value_iteration(states, actions, P)\n",
        "    V_pi, policy_pi = policy_iteration(states, actions, P)\n",
        "\n",
        "    print(\"=== Value Iteration ===\")\n",
        "    print(\"Optimal Values:\", V_vi)\n",
        "    print(\"Optimal Policy:\", policy_vi)\n",
        "\n",
        "    print(\"\\n=== Policy Iteration ===\")\n",
        "    print(\"Optimal Values:\", V_pi)\n",
        "    print(\"Optimal Policy:\", policy_pi)\n"
      ]
    }
  ]
}